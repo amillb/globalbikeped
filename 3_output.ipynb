{
 "cells": [
  {
   "cell_type": "markdown",
   "id": "4edd8648-14b3-49f9-ba55-d4badf5f5a48",
   "metadata": {},
   "source": [
    "# Selected results\n",
    "This notebook reports numbers/ stats that are included in the article.\n",
    "\n",
    "Some of this is background, exploratory.\n",
    "\n",
    "The coefficients use the beta model."
   ]
  },
  {
   "cell_type": "code",
   "execution_count": null,
   "id": "08bdeef8-ddaa-4075-a300-35c9dd907d6a",
   "metadata": {
    "tags": []
   },
   "outputs": [],
   "source": [
    "import pandas as pd\n",
    "import geopandas as gpd\n",
    "import seaborn as sns\n",
    "import numpy as np"
   ]
  },
  {
   "cell_type": "code",
   "execution_count": null,
   "id": "8250ce75-0c9f-46e7-8240-e3b3a9332028",
   "metadata": {
    "tags": []
   },
   "outputs": [],
   "source": [
    "outputpath = '../stan_output/' # where stan coefficients and other estimates are saved\n",
    "data_cities=pd.read_csv('data/data_23.csv')\n",
    "data_countries = pd.read_csv('data/country_23.csv', index_col='country')\n",
    "\n",
    "# get median estimates for every estimate of city-level data\n",
    "city_level_variables=pd.read_csv(outputpath+'beta_estimates_beta.csv')\n",
    "city_level_variables=city_level_variables[[col for col in city_level_variables.columns if \"50%\" in col]].copy()\n",
    "city_level_variables.columns=[col[:-4] for col in city_level_variables.columns]\n",
    "city_level_variables.columns=city_level_variables.columns.str.replace('beta1_','intercept_').str.replace('beta2_','sndi_').str.replace('beta3_','density_').str.replace(\n",
    "    'beta4_','precipitation_').str.replace('beta5_','min_temp_').str.replace('beta6_','bikelanes_').str.replace('beta7_','slope_').str.replace(\n",
    "    'beta8_','includes_inboundoutbound_').str.replace('beta9_','rail_in_city_').str.replace('beta10_','max_temp_').str.replace(\n",
    "    'beta11_','population_').str.replace('beta12_','min_temp2_')\n",
    "\n",
    "# add in country name\n",
    "city_level_variables=city_level_variables.join(data_countries.reset_index()[['country']])\n",
    "\n",
    "country_level_estimates=pd.read_csv(outputpath+'gamma_estimates_beta.csv')\n",
    "country_level_estimates=country_level_estimates[['country_var']+[col for col in country_level_estimates.columns if \"50%\" in col]].copy()"
   ]
  },
  {
   "cell_type": "code",
   "execution_count": null,
   "id": "60dc15f4-ac54-4851-bd6b-960be7859c8b",
   "metadata": {
    "tags": []
   },
   "outputs": [],
   "source": [
    "print('N cities: ', len(data_cities))\n",
    "print('N countries: ',len(data_countries))"
   ]
  },
  {
   "cell_type": "code",
   "execution_count": null,
   "id": "91537657-788f-49ee-a00b-51438bf9a9e8",
   "metadata": {},
   "outputs": [],
   "source": [
    "# Load urban population so we can assess the coverage of our dataset\n",
    "urbanpop=pd.read_csv('data/wdi_urbanpop.csv')\n",
    "urbanpop=urbanpop[urbanpop['2023 [YR2023]']!='..']\n",
    "urbanpop['pop2023']=urbanpop['2023 [YR2023]'].astype(float)\n",
    "taiwanpop = 23588613 * .801 # CIA world factbook\n",
    "\n",
    "# countries in Google dataset, apart from Taiwan \n",
    "google_countries = list(data_cities.country.unique()) + ['Egypt, Arab Rep.', 'Kyrgyz Republic', 'Slovak Republic', 'Syrian Arab Republic','Bahamas, The', 'Turkiye','Venezuela, RB', 'Viet Nam','Yemen, Rep.']\n",
    "[cc for cc in google_countries if cc not in urbanpop['Country Name'].values]\n",
    "urbanpop['in_google'] = urbanpop['Country Name'].isin(google_countries)"
   ]
  },
  {
   "cell_type": "markdown",
   "id": "83177315-c388-4cb6-a328-e3cf40f8218b",
   "metadata": {
    "tags": []
   },
   "source": [
    "<b>Descriptive</b>"
   ]
  },
  {
   "cell_type": "code",
   "execution_count": null,
   "id": "5a79ceb3-f3af-46df-93b5-72efece4f413",
   "metadata": {
    "tags": []
   },
   "outputs": [],
   "source": [
    "print ('Population of all cities (bn)', round(data_cities.population.sum()/1e9,3))\n",
    "print('2023 urban population from WDI (bn)', round(urbanpop.pop2023.sum()/1e9,3))\n",
    "# urban population from WDI: 4.52 billion in 2022\n",
    "print('\\t{:.1f}% of urban population'.format(data_cities.population.sum()/urbanpop.pop2023.sum()*100))\n",
    "print('\\t{:.1f}% of urban population in Google countries'.format(data_cities.population.sum() / (\n",
    "       taiwanpop + urbanpop[urbanpop.in_google].pop2023.sum())*100))\n",
    "\n",
    "print('Percent of trips by walking:', (100*round(data_cities.trips_on_foot_touse.sum()/data_cities.trips_total_touse.sum(),3)))\n",
    "\n",
    "print('Percent of trips by biking:', (100*round(data_cities.trips_cycling_touse.sum()/data_cities.trips_total_touse.sum(),3)))\n",
    "\n",
    "print('Percent of km by walking:', (100*round(data_cities.km_on_foot.sum()/data_cities.km_total.sum(),3)))\n",
    "\n",
    "print('Percent of km by biking:', (100*round(data_cities.km_cycling.sum()/data_cities.km_total.sum(),3)))\n",
    "print('Percent of km by auto and MC: {:.1f}'.format(\n",
    "    (100*(data_cities.km_motorcycle.sum()+data_cities.km_automobile.sum())/data_cities.km_total.sum())))\n",
    "print('Percent of km by PT: {:.1f}'.format(\n",
    "    (100*data_cities.km_transit.sum()/data_cities.km_total.sum())))\n",
    "\n",
    "\n",
    "print('Ratio of walk to bike trips', round(data_cities.trips_on_foot_touse.sum()/data_cities.trips_cycling_touse.sum(),1))\n",
    "print('Ratio of walk to bike km', round(data_cities.km_on_foot.sum()/data_cities.km_cycling.sum(),1))\n"
   ]
  },
  {
   "cell_type": "code",
   "execution_count": null,
   "id": "95de1f6f-de82-498a-8488-90eaf9140210",
   "metadata": {},
   "outputs": [],
   "source": [
    "print('km share at country level (including transit)')\n",
    "data_countries.sort_values(by='km_share_cycling', ascending=False)[['km_share_cycling']].head(10)"
   ]
  },
  {
   "cell_type": "code",
   "execution_count": null,
   "id": "787819c2-3186-403b-ae93-c90662c75b59",
   "metadata": {},
   "outputs": [],
   "source": [
    "print('km share at country level (including transit)')\n",
    "data_countries.sort_values(by='km_share_on_foot', ascending=False)[['km_share_on_foot']].head(15)"
   ]
  },
  {
   "cell_type": "code",
   "execution_count": null,
   "id": "e506502a-5c77-477a-90fc-be7195898def",
   "metadata": {
    "tags": []
   },
   "outputs": [],
   "source": [
    "print('km share (including transit)')\n",
    "data_cities[data_cities.country=='Netherlands'][['city','population','km_share_cycling']].sort_values(by='km_share_cycling',ascending=False)"
   ]
  },
  {
   "cell_type": "code",
   "execution_count": null,
   "id": "23db5ec3-c92f-46cd-bce6-8987af24e7a1",
   "metadata": {},
   "outputs": [],
   "source": [
    "print('Share of trips (including transit)')\n",
    "data_cities[data_cities.country=='Netherlands'][['city','population','cycling_share_including_transit']].sort_values(by='cycling_share_including_transit',ascending=False)"
   ]
  },
  {
   "cell_type": "code",
   "execution_count": null,
   "id": "73b8a346-46a7-4222-a600-27f7bdf52a66",
   "metadata": {
    "tags": []
   },
   "outputs": [],
   "source": [
    "print('median km share:',data_cities[data_cities.country=='Japan']['km_share_cycling'].median())\n",
    "data_cities[data_cities.country=='Japan'].sort_values(by='km_share_cycling',ascending=False)[['city','state','km_share_cycling']]"
   ]
  },
  {
   "cell_type": "markdown",
   "id": "647f6b2d-4135-4553-9379-4d54469f14d7",
   "metadata": {
    "tags": []
   },
   "source": [
    "<b>Model Results - National</b>"
   ]
  },
  {
   "cell_type": "code",
   "execution_count": null,
   "id": "ec29eacc-7d0f-4fff-ae84-fe559da46baf",
   "metadata": {},
   "outputs": [],
   "source": [
    "country_level_estimates"
   ]
  },
  {
   "cell_type": "code",
   "execution_count": null,
   "id": "751caf76-4830-464b-8c22-fdcb496d474a",
   "metadata": {
    "tags": []
   },
   "outputs": [],
   "source": [
    "# this is how we calculate what a 1 standard deviation change in gas prices even means\n",
    "data_countries['next_gas'] = data_countries['gasoline_2018'].shift(1)\n",
    "data_countries['next_gas_standard'] = data_countries['gasoline_standard'].shift(1)\n",
    "data_countries['gas_change'] =  data_countries['gasoline_2018']-data_countries['next_gas']\n",
    "data_countries['gas_standard_change'] =  data_countries['gasoline_standard']-data_countries['next_gas_standard']\n",
    "data_countries['estimate'] = data_countries['gas_change']/data_countries['gas_standard_change']\n",
    "\n",
    "data_countries[['estimate']].mean()"
   ]
  },
  {
   "cell_type": "markdown",
   "id": "110108cc-729a-41fe-ab18-5d39c0330e13",
   "metadata": {
    "tags": []
   },
   "source": [
    "<b>Density</b>"
   ]
  },
  {
   "cell_type": "code",
   "execution_count": null,
   "id": "354989ed-83a9-4585-9fbb-26b8152ba8c5",
   "metadata": {
    "tags": []
   },
   "outputs": [],
   "source": [
    "# examples of 1 standard deviation change\n",
    "round(data_cities[data_cities.city.isin(['Seattle','San Francisco','Taipei'])][['city','country','density_standard']],2).sort_values(by='density_standard')"
   ]
  },
  {
   "cell_type": "code",
   "execution_count": null,
   "id": "cd23322b-61f6-4c53-aa26-d11cf1280444",
   "metadata": {
    "tags": []
   },
   "outputs": [],
   "source": [
    "# effect size\n",
    "print('Effect of density (1 stddev change)')\n",
    "100*round(city_level_variables[['density_walk','density_bike']].median(),3)"
   ]
  },
  {
   "cell_type": "code",
   "execution_count": null,
   "id": "187ba363-548a-4d77-84a8-f12334eefb5d",
   "metadata": {},
   "outputs": [],
   "source": [
    "city_level_variables[['country','density_walk']].sort_values(by='density_walk',ascending=False)"
   ]
  },
  {
   "cell_type": "code",
   "execution_count": null,
   "id": "e8a7177f-81c1-48ff-99b7-7b5924647723",
   "metadata": {},
   "outputs": [],
   "source": [
    "city_level_variables[['country','density_walk']].sort_values(by='density_walk',ascending=False).head(20)"
   ]
  },
  {
   "cell_type": "code",
   "execution_count": null,
   "id": "4c980ffd-c15c-4193-bdc7-ee21969de697",
   "metadata": {},
   "outputs": [],
   "source": [
    "city_level_variables[city_level_variables.country.isin(['Morocco','Germany'])][['country','density_walk']]"
   ]
  },
  {
   "cell_type": "markdown",
   "id": "b3da36f2-0979-4656-a2f3-3ea908444f73",
   "metadata": {},
   "source": [
    "<b>Bike lanes</b>"
   ]
  },
  {
   "cell_type": "code",
   "execution_count": null,
   "id": "871e0c97-534b-4551-bf73-907777f78c18",
   "metadata": {},
   "outputs": [],
   "source": [
    "# effect size\n",
    "100*round(city_level_variables[['bikelanes_bike','bikelanes_walk']].median(),3)"
   ]
  },
  {
   "cell_type": "code",
   "execution_count": null,
   "id": "600603f5-f502-4f6c-bd52-7877a4906804",
   "metadata": {
    "tags": []
   },
   "outputs": [],
   "source": [
    "# examples of 1 standard deviation change\n",
    "round(data_cities[data_cities.city.isin(['Los Angeles','San Francisco'])][['city','country','bikelanes_standard']],2).sort_values(by='bikelanes_standard')"
   ]
  },
  {
   "cell_type": "code",
   "execution_count": null,
   "id": "6bbd1a4b-519b-4ac6-9ae5-fd0b4c4bcd42",
   "metadata": {},
   "outputs": [],
   "source": [
    "data_cities['travel_per_road_km']=data_cities['km_no_transit']/data_cities['roads_km']\n",
    "\n",
    "data_cities['bikelanes_for_1sd_increase']=data_cities['roads_km']*np.std(data_cities.bikelane_per_road_km)\n",
    "\n",
    "data_cities = data_cities.set_index('country').join(city_level_variables.set_index('country')['bikelanes_bike']).reset_index()\n",
    "data_cities['biketravel_increase']=data_cities['km_no_transit']*data_cities.bikelanes_bike\n",
    "\n",
    "data_cities['biking_per_bikelane_km']=data_cities['biketravel_increase']/data_cities['bikelanes_for_1sd_increase']"
   ]
  },
  {
   "cell_type": "code",
   "execution_count": null,
   "id": "a79d78c0-fe15-457c-a4d3-2b4017225b3f",
   "metadata": {},
   "outputs": [],
   "source": [
    "print('Effect of 1km bike lanes on bike km per year')\n",
    "\n",
    "data_cities['biking_per_bikelane_km'].median()"
   ]
  },
  {
   "cell_type": "markdown",
   "id": "7d4154ef-6ce8-455d-9ee0-f3003308f15e",
   "metadata": {},
   "source": [
    "<b>Appendix</b>"
   ]
  },
  {
   "cell_type": "code",
   "execution_count": null,
   "id": "fea65b80-bbef-48ab-9e21-1cf958713868",
   "metadata": {},
   "outputs": [],
   "source": [
    "# what fraction of cities include in and outbound trips?\n",
    "print(data_cities.groupby('includes_inboundoutbound').size())\n",
    "print('{:.3f}'.format(data_cities['includes_inboundoutbound'].mean()))"
   ]
  }
 ],
 "metadata": {
  "kernelspec": {
   "display_name": "Python 3 (ipykernel)",
   "language": "python",
   "name": "python3"
  },
  "language_info": {
   "codemirror_mode": {
    "name": "ipython",
    "version": 3
   },
   "file_extension": ".py",
   "mimetype": "text/x-python",
   "name": "python",
   "nbconvert_exporter": "python",
   "pygments_lexer": "ipython3",
   "version": "3.12.10"
  }
 },
 "nbformat": 4,
 "nbformat_minor": 5
}
